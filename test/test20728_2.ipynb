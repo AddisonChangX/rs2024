{
 "cells": [
  {
   "cell_type": "code",
   "execution_count": 16,
   "metadata": {},
   "outputs": [
    {
     "name": "stdout",
     "output_type": "stream",
     "text": [
      "成績 = 76\n",
      "身高 = 175.5\n",
      "物件參考 = 140732606742064\n"
     ]
    }
   ],
   "source": [
    "a = 76\n",
    "a_id = id(a)\n",
    "print(\"成績 =\",a)\n",
    "\n",
    "b = 175.5\n",
    "b_id = id(b)\n",
    "print(\"身高 =\",b)\n",
    "print(\"物件參考 =\",b_id)"
   ]
  }
 ],
 "metadata": {
  "kernelspec": {
   "display_name": "venv1",
   "language": "python",
   "name": "python3"
  },
  "language_info": {
   "codemirror_mode": {
    "name": "ipython",
    "version": 3
   },
   "file_extension": ".py",
   "mimetype": "text/x-python",
   "name": "python",
   "nbconvert_exporter": "python",
   "pygments_lexer": "ipython3",
   "version": "3.12.4"
  }
 },
 "nbformat": 4,
 "nbformat_minor": 2
}
