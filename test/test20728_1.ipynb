{
 "cells": [
  {
   "cell_type": "code",
   "execution_count": 9,
   "metadata": {},
   "outputs": [
    {
     "name": "stdout",
     "output_type": "stream",
     "text": [
      "10000 label reshufflings produced only 13 instances with a difference\n",
      "at least as extreme as the observed difference of 13.0.\n",
      "The one-sided p-value of 0.0013 leads us to reject the null\n",
      "hypothesis that there is no difference between the drug and the placebo.\n"
     ]
    }
   ],
   "source": [
    "from statistics import fmean as mean\n",
    "from random import shuffle\n",
    "\n",
    "drug = [54, 73, 53, 70, 73, 68, 52, 65, 65]\n",
    "placebo = [54, 51, 58, 44, 55, 52, 42, 47, 58, 46]\n",
    "observed_diff = mean(drug) - mean(placebo)\n",
    "\n",
    "n = 10_000\n",
    "count = 0\n",
    "combined = drug + placebo\n",
    "for i in range(n):\n",
    "    shuffle(combined)\n",
    "    new_diff = mean(combined[:len(drug)]) - mean(combined[len(drug):])\n",
    "    count += (new_diff >= observed_diff)\n",
    "\n",
    "print(f'{n} label reshufflings produced only {count} instances with a difference')\n",
    "print(f'at least as extreme as the observed difference of {observed_diff:.1f}.')\n",
    "print(f'The one-sided p-value of {count / n:.4f} leads us to reject the null')\n",
    "print(f'hypothesis that there is no difference between the drug and the placebo.')"
   ]
  },
  {
   "cell_type": "code",
   "execution_count": 1,
   "metadata": {},
   "outputs": [
    {
     "name": "stdout",
     "output_type": "stream",
     "text": [
      "2024-07-28 14:34:36.893951\n"
     ]
    }
   ],
   "source": [
    "from datetime import datetime\n",
    "print(datetime.now())"
   ]
  },
  {
   "cell_type": "code",
   "execution_count": 1,
   "metadata": {},
   "outputs": [
    {
     "name": "stdout",
     "output_type": "stream",
     "text": [
      "小郭    60\n",
      "小王    27\n",
      "小華    72\n",
      "小明    53\n",
      "dtype: int64\n"
     ]
    }
   ],
   "source": [
    "import pandas as pd\n",
    "\n",
    "# 建立 Series 物件並設定 index 索引\n",
    "grades = pd.Series([60, 27, 72, 53], index=['小郭', '小王', '小華', '小明'])\n",
    "\n",
    "print(grades)"
   ]
  },
  {
   "cell_type": "code",
   "execution_count": 7,
   "metadata": {},
   "outputs": [
    {
     "data": {
      "text/plain": [
       "0    1.0\n",
       "1    3.0\n",
       "2    5.0\n",
       "3    NaN\n",
       "4    6.0\n",
       "5    8.0\n",
       "dtype: float64"
      ]
     },
     "execution_count": 7,
     "metadata": {},
     "output_type": "execute_result"
    }
   ],
   "source": [
    "import numpy as np\n",
    "import pandas as pd\n",
    "import matplotlib.pyplot as plt\n",
    "\n",
    "s = pd.Series([1, 3, 5, np.nan, 6, 8])\n",
    "s"
   ]
  },
  {
   "cell_type": "code",
   "execution_count": 8,
   "metadata": {},
   "outputs": [
    {
     "data": {
      "text/plain": [
       "DatetimeIndex(['2013-01-01', '2013-01-02', '2013-01-03', '2013-01-04',\n",
       "               '2013-01-05', '2013-01-06'],\n",
       "              dtype='datetime64[ns]', freq='D')"
      ]
     },
     "execution_count": 8,
     "metadata": {},
     "output_type": "execute_result"
    }
   ],
   "source": [
    "dates = pd.date_range('20130101', periods=6)\n",
    "dates"
   ]
  },
  {
   "cell_type": "code",
   "execution_count": 9,
   "metadata": {},
   "outputs": [
    {
     "data": {
      "text/html": [
       "<div>\n",
       "<style scoped>\n",
       "    .dataframe tbody tr th:only-of-type {\n",
       "        vertical-align: middle;\n",
       "    }\n",
       "\n",
       "    .dataframe tbody tr th {\n",
       "        vertical-align: top;\n",
       "    }\n",
       "\n",
       "    .dataframe thead th {\n",
       "        text-align: right;\n",
       "    }\n",
       "</style>\n",
       "<table border=\"1\" class=\"dataframe\">\n",
       "  <thead>\n",
       "    <tr style=\"text-align: right;\">\n",
       "      <th></th>\n",
       "      <th>A</th>\n",
       "      <th>B</th>\n",
       "      <th>C</th>\n",
       "      <th>D</th>\n",
       "    </tr>\n",
       "  </thead>\n",
       "  <tbody>\n",
       "    <tr>\n",
       "      <th>2013-01-01</th>\n",
       "      <td>-0.060189</td>\n",
       "      <td>0.544821</td>\n",
       "      <td>-0.675951</td>\n",
       "      <td>-1.189242</td>\n",
       "    </tr>\n",
       "    <tr>\n",
       "      <th>2013-01-02</th>\n",
       "      <td>-0.246720</td>\n",
       "      <td>0.968317</td>\n",
       "      <td>-0.536745</td>\n",
       "      <td>-0.945341</td>\n",
       "    </tr>\n",
       "    <tr>\n",
       "      <th>2013-01-03</th>\n",
       "      <td>0.735671</td>\n",
       "      <td>1.294348</td>\n",
       "      <td>1.759814</td>\n",
       "      <td>-1.422881</td>\n",
       "    </tr>\n",
       "    <tr>\n",
       "      <th>2013-01-04</th>\n",
       "      <td>0.397218</td>\n",
       "      <td>0.458667</td>\n",
       "      <td>-0.278390</td>\n",
       "      <td>0.345705</td>\n",
       "    </tr>\n",
       "    <tr>\n",
       "      <th>2013-01-05</th>\n",
       "      <td>-0.980033</td>\n",
       "      <td>0.383098</td>\n",
       "      <td>0.264666</td>\n",
       "      <td>0.327147</td>\n",
       "    </tr>\n",
       "    <tr>\n",
       "      <th>2013-01-06</th>\n",
       "      <td>0.978720</td>\n",
       "      <td>-0.803382</td>\n",
       "      <td>-0.478101</td>\n",
       "      <td>0.267361</td>\n",
       "    </tr>\n",
       "  </tbody>\n",
       "</table>\n",
       "</div>"
      ],
      "text/plain": [
       "                   A         B         C         D\n",
       "2013-01-01 -0.060189  0.544821 -0.675951 -1.189242\n",
       "2013-01-02 -0.246720  0.968317 -0.536745 -0.945341\n",
       "2013-01-03  0.735671  1.294348  1.759814 -1.422881\n",
       "2013-01-04  0.397218  0.458667 -0.278390  0.345705\n",
       "2013-01-05 -0.980033  0.383098  0.264666  0.327147\n",
       "2013-01-06  0.978720 -0.803382 -0.478101  0.267361"
      ]
     },
     "execution_count": 9,
     "metadata": {},
     "output_type": "execute_result"
    }
   ],
   "source": [
    "df = pd.DataFrame(np.random.randn(6, 4), index=dates, columns=list('ABCD'))\n",
    "df"
   ]
  },
  {
   "cell_type": "code",
   "execution_count": 10,
   "metadata": {},
   "outputs": [
    {
     "name": "stdout",
     "output_type": "stream",
     "text": [
      "          0         1         2         3\n",
      "0  2.032973  0.082131  3.293634  1.510302\n",
      "1  1.991394  4.839342  4.047635  1.069238\n",
      "2  0.298597  1.366379  2.049492  4.337707\n",
      "3  0.354951  1.874146  1.172487  0.325068\n",
      "4  2.410208  2.528215  1.241984  2.874161\n",
      "5  2.050923  0.473196  4.432624  0.967691\n",
      "6  4.027725  1.513999  4.372706  3.755319\n",
      "7  0.575025  2.060870  4.643656  0.925684\n"
     ]
    }
   ],
   "source": [
    "import pandas as pd\n",
    "import numpy as np\n",
    "df = pd.DataFrame(np.random.rand(8, 4) * 5)\n",
    "print(df)"
   ]
  }
 ],
 "metadata": {
  "kernelspec": {
   "display_name": "venv1",
   "language": "python",
   "name": "python3"
  },
  "language_info": {
   "codemirror_mode": {
    "name": "ipython",
    "version": 3
   },
   "file_extension": ".py",
   "mimetype": "text/x-python",
   "name": "python",
   "nbconvert_exporter": "python",
   "pygments_lexer": "ipython3",
   "version": "3.12.4"
  }
 },
 "nbformat": 4,
 "nbformat_minor": 2
}
